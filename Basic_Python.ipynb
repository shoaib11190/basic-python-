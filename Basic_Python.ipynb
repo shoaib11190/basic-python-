{
  "nbformat": 4,
  "nbformat_minor": 0,
  "metadata": {
    "colab": {
      "provenance": []
    },
    "kernelspec": {
      "name": "python3",
      "display_name": "Python 3"
    },
    "language_info": {
      "name": "python"
    }
  },
  "cells": [
    {
      "cell_type": "markdown",
      "source": [],
      "metadata": {
        "id": "vZapx5qBCNM2"
      }
    },
    {
      "cell_type": "markdown",
      "source": [
        "# Basic Python\n"
      ],
      "metadata": {
        "id": "tgOonXw4CVZQ"
      }
    },
    {
      "cell_type": "markdown",
      "source": [
        "Qus.1 = What is Python, and why is it popular.\n",
        "    \n",
        "Ans   ->\" Python is a computer programming language often used to build\n",
        "websites and software automate tasks and analyze data. Python is a general-purpose language.\n",
        "      A popular programming language that's used in many different areas, including web development, data science, and machine learning:\""
      ],
      "metadata": {
        "id": "JUeMzwomC5uo"
      }
    },
    {
      "cell_type": "markdown",
      "source": [
        "Qus.2 = What is an interpreter in Python.\n",
        "     \n",
        " -> python is interpeter language excute the code of line by line.computer convert the high level language to intermediate level.\n",
        "\n"
      ],
      "metadata": {
        "id": "5-BklhdcGyhK"
      }
    },
    {
      "cell_type": "markdown",
      "source": [
        "Qus.3 = What are pre-defined keywords in Python.\n",
        "\n",
        "Ans.\n",
        "python in Pre-defined keywords in Python are reserved words that have special meanings and uses that cannot be changed."
      ],
      "metadata": {
        "id": "wy1CJ2hDHtKn"
      }
    },
    {
      "cell_type": "markdown",
      "source": [
        "Qus.4 = Can keywords be used as variable names.\n",
        "\n",
        "Ans. No keywords can't be used as variable names and Keywords define the\n",
        "     language syntax rules and structure.\n"
      ],
      "metadata": {
        "id": "zISdrBoJIycq"
      }
    },
    {
      "cell_type": "markdown",
      "source": [
        "Qus.5 = What is mutability in Python?\n",
        "\n",
        "Ans. = In python mutability means  to change  the object to after creation."
      ],
      "metadata": {
        "id": "Jx6p6XQqKBOh"
      }
    },
    {
      "cell_type": "markdown",
      "source": [
        "Qus.6 = Why are lists mutable, but tuples are immutable?\n",
        "\n",
        "Ans.The differance between list mutable, and tuple inmutable, tuple are  inmutable their cannot change after creation."
      ],
      "metadata": {
        "id": "fJzw-KZ0KxVx"
      }
    },
    {
      "cell_type": "markdown",
      "source": [
        "Qus.7 = What is the difference between “==” and “is” operators in Python?\n",
        "\n",
        "Ans.Differance between to \"==\" and \"is\".The == and is operators in Python is that == compares the values of two objects, while is checks if the objects are identica"
      ],
      "metadata": {
        "id": "wdNE5DbFLzDd"
      }
    },
    {
      "cell_type": "markdown",
      "source": [
        "Qus.8 = What are logical operators in Python?\n",
        "\n",
        "Ans.logical operater perform specific task  special characters or symbols that evaluate multiple conditions and determine the truth and fALSE  value of an expression.\n",
        "\n"
      ],
      "metadata": {
        "id": "qnHm3NhbM687"
      }
    },
    {
      "cell_type": "markdown",
      "source": [],
      "metadata": {
        "id": "o9xQ7jOaNk-i"
      }
    },
    {
      "cell_type": "markdown",
      "source": [
        "Qus.9 = What is type casting in Python.\n",
        "\n",
        "Ans.Type casting is python in one Data type to convert to another data type."
      ],
      "metadata": {
        "id": "IfPn6rTqNnTG"
      }
    },
    {
      "cell_type": "markdown",
      "source": [
        "Qus.10 = What is the difference between implicit and explicit type casting?\n",
        "\n",
        "Ans.Differance between implicit and explicit type casting automatically, while explicit type casting is a manual process:"
      ],
      "metadata": {
        "id": "loI7fBHlOKiA"
      }
    },
    {
      "cell_type": "markdown",
      "source": [
        "Qns.11 = What is the purpose of conditional statements in Python?\n",
        "\n",
        "Ans.\n",
        "The purpose of conditional statements in Python is to control the flow of a program by making decisions based on certain conditions"
      ],
      "metadata": {
        "id": "E33oXP_wPI2P"
      }
    },
    {
      "cell_type": "markdown",
      "source": [
        "Qns,12 = How does the elif statement work.\n",
        "\n",
        "Ans. If condition not true go elif and check for elif  condition.and then excuted condition.\n",
        "\n"
      ],
      "metadata": {
        "id": "Exkxi-1yPncF"
      }
    },
    {
      "cell_type": "markdown",
      "source": [
        "Qus.13 = What is the difference between for and while loops?\n",
        "\n",
        "Ans.for loop is used when the number of iterations is known, whereas execution is done in a while loop until the statement in the program is proved wrong."
      ],
      "metadata": {
        "id": "7iyftdbvQh-L"
      }
    },
    {
      "cell_type": "markdown",
      "source": [
        "Qus.14 = Describe a scenario where a while loop is more suitable than a for loop?\n",
        "\n",
        "\n",
        "Ans.\n",
        "In contrast to a 'for' loop, which is generally used when the number of iterations is known beforehand, a 'while' loop is ideal for situations where the number of iterations is not predetermined and depends on some dynamic condition."
      ],
      "metadata": {
        "id": "uNH2qljJQ5xc"
      }
    },
    {
      "cell_type": "markdown",
      "source": [
        "Practical question..............\n"
      ],
      "metadata": {
        "id": "i-Wt13IBSKTU"
      }
    },
    {
      "cell_type": "code",
      "source": [
        "#  1 Write a Python program to print \"Hello, World!_\n",
        "\"\"\"\n",
        "print(\"Helllo World!\")\n",
        "\n",
        "\"\"\""
      ],
      "metadata": {
        "colab": {
          "base_uri": "https://localhost:8080/",
          "height": 35
        },
        "id": "JMuZpf4ASV0G",
        "outputId": "055982b9-d220-4724-ba89-ddb1bb67f9f9"
      },
      "execution_count": 2,
      "outputs": [
        {
          "output_type": "execute_result",
          "data": {
            "text/plain": [
              "'\\nprint(\"Helllo World!\")\\n\\n'"
            ],
            "application/vnd.google.colaboratory.intrinsic+json": {
              "type": "string"
            }
          },
          "metadata": {},
          "execution_count": 2
        }
      ]
    },
    {
      "cell_type": "code",
      "source": [
        "# 2 Write a Python program that displays your name and age.\n",
        "\n",
        "'''\n",
        "name = \"Shoaib\"\n",
        "age = 25\n",
        "\n",
        "print(name)\n",
        "print(age)\n",
        "\n",
        "'''"
      ],
      "metadata": {
        "colab": {
          "base_uri": "https://localhost:8080/",
          "height": 35
        },
        "id": "WWFp48cNVupu",
        "outputId": "fd0169a5-cbeb-4ae5-c6cc-49a3cd0d8df8"
      },
      "execution_count": 5,
      "outputs": [
        {
          "output_type": "execute_result",
          "data": {
            "text/plain": [
              "'\\nname = \"Shoaib\"\\nage = 25\\n\\nprint(name)\\nprint(age)\\n\\n'"
            ],
            "application/vnd.google.colaboratory.intrinsic+json": {
              "type": "string"
            }
          },
          "metadata": {},
          "execution_count": 5
        }
      ]
    },
    {
      "cell_type": "code",
      "source": [
        "# 3 Write code to print all the pre-defined keywords in Python using the keyword library\n",
        "\n",
        "'''\n",
        "import keyword\n",
        "\n",
        "print(keyword.kwlist)\n",
        "\n",
        "'''"
      ],
      "metadata": {
        "colab": {
          "base_uri": "https://localhost:8080/",
          "height": 35
        },
        "id": "gB2P3xBrVuka",
        "outputId": "d6d13323-0eb7-440b-e685-b0b08426175d"
      },
      "execution_count": 4,
      "outputs": [
        {
          "output_type": "execute_result",
          "data": {
            "text/plain": [
              "'\\nimport keyword\\n\\nprint(keyword.kwlist)\\n\\n'"
            ],
            "application/vnd.google.colaboratory.intrinsic+json": {
              "type": "string"
            }
          },
          "metadata": {},
          "execution_count": 4
        }
      ]
    },
    {
      "cell_type": "code",
      "source": [
        "# 4 Write a program that checks if a given word is a Python keyword.\n",
        "'''\n",
        "\n",
        "import keyword\n",
        "\n",
        "keywords = keyword.kwlist    # List of all Python keywords\n",
        "\n",
        "# input from the user\n",
        "word = input(\"Enter a word to check if it's a Python keyword: \")\n",
        "\n",
        "# Check if the word is in the list of keywords\n",
        "if word in keywords:\n",
        "    print(f\"'{word}' is a Python keyword.\")\n",
        "else:\n",
        "    print(f\"'{word}' is not a Python keyword.\")\n",
        "\n",
        "'''"
      ],
      "metadata": {
        "colab": {
          "base_uri": "https://localhost:8080/",
          "height": 70
        },
        "id": "AexpXoV5WV_C",
        "outputId": "e292de6f-62e7-4257-f192-2e981175b5cc"
      },
      "execution_count": 7,
      "outputs": [
        {
          "output_type": "execute_result",
          "data": {
            "text/plain": [
              "'\\n\\nimport keyword\\n\\nkeywords = keyword.kwlist    # List of all Python keywords\\n\\n# input from the user\\nword = input(\"Enter a word to check if it\\'s a Python keyword: \")\\n\\n# Check if the word is in the list of keywords\\nif word in keywords:\\n    print(f\"\\'{word}\\' is a Python keyword.\")\\nelse:\\n    print(f\"\\'{word}\\' is not a Python keyword.\")\\n\\n'"
            ],
            "application/vnd.google.colaboratory.intrinsic+json": {
              "type": "string"
            }
          },
          "metadata": {},
          "execution_count": 7
        }
      ]
    },
    {
      "cell_type": "code",
      "source": [
        "# 5 Create a list and tuple in Python, and demonstrate how attempting to change an element works differently one each\n",
        "'''\n",
        "\n",
        "my_list = [1, 2, 3]\n",
        "my_tuple = (1, 2, 3)\n",
        "\n",
        "\n",
        "print(my_list)\n",
        "print(my_tuple)\n",
        "\n",
        "# Modify an element in the list\n",
        "my_list[0] = 10\n",
        "print(my_list)\n",
        "\n",
        "print(my_tuple)\n",
        "my_tuple[0] = 10\n",
        "'''"
      ],
      "metadata": {
        "colab": {
          "base_uri": "https://localhost:8080/",
          "height": 53
        },
        "id": "AD9-mTJtbdqF",
        "outputId": "eb2987c6-f95e-4673-b521-48ae54b63e0f"
      },
      "execution_count": 14,
      "outputs": [
        {
          "output_type": "execute_result",
          "data": {
            "text/plain": [
              "'\\n\\nmy_list = [1, 2, 3]\\nmy_tuple = (1, 2, 3)\\n\\n\\nprint(my_list)\\nprint(my_tuple)\\n\\n# Modify an element in the list\\nmy_list[0] = 10\\nprint(my_list)\\n\\nprint(my_tuple)\\nmy_tuple[0] = 10 \\n'"
            ],
            "application/vnd.google.colaboratory.intrinsic+json": {
              "type": "string"
            }
          },
          "metadata": {},
          "execution_count": 14
        }
      ]
    },
    {
      "cell_type": "code",
      "source": [
        "# 6 Write a function to demonstrate the behavior of mutable and immutable arguments.\n",
        "'''\n",
        "\n",
        "mutable= [1, 2, 3]\n",
        "print(mutable_obj)\n",
        "\n",
        "\n",
        "mutable.append(100)\n",
        "print( mutable_obj)\n",
        "\n",
        "\n",
        "immutable = 10\n",
        "print( immutable)\n",
        "\n",
        "immutable_obj += 100\n",
        "print(immutable)\n",
        "'''"
      ],
      "metadata": {
        "colab": {
          "base_uri": "https://localhost:8080/",
          "height": 53
        },
        "id": "w9HGpFNWdKZk",
        "outputId": "3de73ce1-4d67-440f-88b4-09f060219833"
      },
      "execution_count": 16,
      "outputs": [
        {
          "output_type": "execute_result",
          "data": {
            "text/plain": [
              "'\\n\\nmutable= [1, 2, 3]\\nprint(mutable_obj)\\n\\n\\nmutable.append(100)\\nprint( mutable_obj)\\n\\n\\nimmutable = 10\\nprint( immutable)\\n\\nimmutable_obj += 100\\nprint(immutable)\\n'"
            ],
            "application/vnd.google.colaboratory.intrinsic+json": {
              "type": "string"
            }
          },
          "metadata": {},
          "execution_count": 16
        }
      ]
    },
    {
      "cell_type": "code",
      "source": [
        "# 7 Write a function to demonstrate the behavior of mutable and immutable arguments.\n",
        "\n",
        "'''\n",
        "\n",
        "mutable= [1, 2, 3]\n",
        "print(mutable_obj)\n",
        "\n",
        "\n",
        "mutable.append(100)\n",
        "print( mutable_obj)\n",
        "\n",
        "\n",
        "immutable = 10\n",
        "print( immutable)\n",
        "\n",
        "immutable_obj += 100\n",
        "print(immutable)\n",
        "'''\n"
      ],
      "metadata": {
        "id": "2ZOWFXyKbfZi"
      },
      "execution_count": null,
      "outputs": []
    },
    {
      "cell_type": "code",
      "source": [
        "# 8 Write a program to demonstrate the use of logical operators.\n",
        "\n",
        "'''\n",
        "# Define some sample variables\n",
        "a = True\n",
        "b = False\n",
        "x = 5\n",
        "y = 10\n",
        "\n",
        "# Demonstrating logical 'and'\n",
        "print(\"Logical AND:\")\n",
        "print(f\"a and b: {a and b}\")  # True and False = False\n",
        "print(f\"(x < y) and (a): {(x < y) and a}\")  # True and True = True\n",
        "print(f\"(x > y) and (a): {(x > y) and a}\")  # False and True = False\n",
        "\n",
        "# Demonstrating logical 'or'\n",
        "print(\"\\nLogical OR:\")\n",
        "print(f\"a or b: {a or b}\")\n",
        "print(f\"(x < y) or (b): {(x < y) or b}\")\n",
        "print(f\"(x > y) or (b): {(x > y) or b}\")\n",
        "\n",
        "# Demonstrating logical 'not'\n",
        "print(\"\\nLogical NOT:\")\n",
        "print(f\"not a: {not a}\")\n",
        "print(f\"not b: {not b}\")\n",
        "print(f\"not (x < y): {not (x < y)}\")\n",
        "print(f\"not (x > y): {not (x > y)}\")\n",
        "\n",
        "'''\n"
      ],
      "metadata": {
        "id": "e1XE58pSfuPR"
      },
      "execution_count": null,
      "outputs": []
    },
    {
      "cell_type": "code",
      "source": [
        "# 9 Write a Python program to convert user input from string to integer, float, and boolean types.\n",
        "'''\n",
        "\n",
        "user_input = input(\"Enter a value: \")\n",
        "\n",
        "\n",
        "if user_input.isdigit():\n",
        "    int_value = int(user_input)\n",
        "    print(f\"Converted to integer: {int_value}\")\n",
        "else:\n",
        "    print(\"The input cannot be converted to an integer.\")\n",
        "\n",
        "\n",
        "\n",
        "if user_input.replace('.', '', 1).isdigit() and user_input.count('.') < 2:\n",
        "    float_value = float(user_input)\n",
        "    print(f\"Converted to float: {float_value}\")\n",
        "else:\n",
        "    print(\"The input cannot be converted to a float.\")\n",
        "\n",
        "\n",
        "boolean_value = bool(user_input)\n",
        "print(f\"Converted to boolean: {boolean_value}\")\n",
        "\n",
        "'''\n"
      ],
      "metadata": {
        "colab": {
          "base_uri": "https://localhost:8080/",
          "height": 87
        },
        "id": "fHmeTAPpgnwD",
        "outputId": "e68f2a37-86d9-4593-986d-e31d072cd335"
      },
      "execution_count": 17,
      "outputs": [
        {
          "output_type": "execute_result",
          "data": {
            "text/plain": [
              "'\\n\\nuser_input = input(\"Enter a value: \")\\n\\n\\nif user_input.isdigit():\\n    int_value = int(user_input)\\n    print(f\"Converted to integer: {int_value}\")\\nelse:\\n    print(\"The input cannot be converted to an integer.\")\\n\\n\\n\\nif user_input.replace(\\'.\\', \\'\\', 1).isdigit() and user_input.count(\\'.\\') < 2:\\n    float_value = float(user_input)\\n    print(f\"Converted to float: {float_value}\")\\nelse:\\n    print(\"The input cannot be converted to a float.\")\\n\\n\\nboolean_value = bool(user_input)\\nprint(f\"Converted to boolean: {boolean_value}\")\\n\\n'"
            ],
            "application/vnd.google.colaboratory.intrinsic+json": {
              "type": "string"
            }
          },
          "metadata": {},
          "execution_count": 17
        }
      ]
    },
    {
      "cell_type": "code",
      "source": [
        "# 10. Write code to demonstrate type casting with list elements.\n",
        "'''\n",
        "# Define a list with mixed types of elements as strings\n",
        "input_list = [\"1\", \"2.5\", \"True\", \"hello\", \"42\"]\n",
        "\n",
        "# Initialize lists to store converted values\n",
        "int_list = []\n",
        "float_list = []\n",
        "bool_list = []\n",
        "str_list = []\n",
        "\n",
        "# Perform type casting for each element in the input list\n",
        "for item in input_list:\n",
        "    # Attempt to convert to integer\n",
        "    if item.isdigit():\n",
        "        int_list.append(int(item))\n",
        "    # Attempt to convert to float\n",
        "    if item.replace('.', '', 1).isdigit():\n",
        "        float_list.append(float(item))\n",
        "    # Attempt to convert to boolean\n",
        "    bool_list.append(bool(item))\n",
        "    # Convert to string (all elements are already strings)\n",
        "    str_list.append(str(item))\n",
        "\n",
        "# Print results\n",
        "print(\"Original List:\", input_list)\n",
        "print(\"Converted to Integers:\", int_list)\n",
        "print(\"Converted to Floats:\", float_list)\n",
        "print(\"Converted to Booleans:\", bool_list)\n",
        "print(\"Converted to Strings:\", str_list)\n",
        "...\n"
      ],
      "metadata": {
        "id": "2Yb8Pi2Gh4bO"
      },
      "execution_count": null,
      "outputs": []
    },
    {
      "cell_type": "code",
      "source": [
        "# 11. Write a program that checks if a number is positive, negative, or zero.\n",
        "\n",
        "'''\n",
        "# Take user input as a number\n",
        "number = float(input(\"Enter a number: \"))\n",
        "\n",
        "if number > 0:\n",
        "    print(\"The number\", number, \"is positive.\")\n",
        "elif number < 0:\n",
        "    print(\"The number\", number, \"is negative.\")\n",
        "else:\n",
        "    print(\"The number is zero.\")\n",
        "\n"
      ],
      "metadata": {
        "id": "8v9H8X3BjnEI"
      },
      "execution_count": null,
      "outputs": []
    },
    {
      "cell_type": "code",
      "source": [
        "# 12  Write a for loop to print numbers from 1 to 100.\n",
        "\n",
        "'''\n",
        "# Print numbers from 1 to 100\n",
        "\n",
        "for number in range(1, 101):\n",
        "    print(number)\n",
        "\n",
        "'''\n"
      ],
      "metadata": {
        "id": "pLG61xmwkfBE"
      },
      "execution_count": null,
      "outputs": []
    },
    {
      "cell_type": "code",
      "source": [
        "# 12 Write a Python program to find the sum of all even numbers between 1 and 500.\n",
        "\n",
        "'''\n",
        "\n",
        "sum_of_evens = 0\n",
        "\n",
        "# Use a for loop to iterate through numbers from 1 to 500\n",
        "\n",
        "for number in range(1, 501):\n",
        "    # Check if the number is even\n",
        "    if number % 2 == 0:\n",
        "        sum_of_evens += number\n",
        "\n",
        "\n",
        "print(\"The sum of all even numbers between 1 and 500 is:\", sum_of_evens)\n",
        "\n",
        "'''"
      ],
      "metadata": {
        "id": "kTgN52c9k_uA"
      },
      "execution_count": null,
      "outputs": []
    },
    {
      "cell_type": "code",
      "source": [
        "# 13 Write a program to reverse a string using a while loop.\n",
        "\n",
        "'''\n",
        "# Take input from the user\n",
        "original_string = input(\"Enter a string: \")\n",
        "\n",
        "\n",
        "reversed_string = \"\"\n",
        "index = len(original_string) - 1\n",
        "\n",
        "# Use a while loop to reverse the string\n",
        "while index >= 0:\n",
        "    reversed_string += original_string[index]\n",
        "    index -= 1\n",
        "\n",
        "# Print the reversed string\n",
        "print(reversed_string)\n",
        "'''\n"
      ],
      "metadata": {
        "id": "WzkFmp8jk_os"
      },
      "execution_count": null,
      "outputs": []
    },
    {
      "cell_type": "code",
      "source": [
        "# 14 Write a Python program to calculate the factorial of a number provided by the user using a while loop.\n",
        "\n",
        "'''\n",
        "# Take input from the user\n",
        "number = int(input(\"Enter a non-negative integer: \"))\n",
        "\n",
        "\n",
        "factorial = 1\n",
        "current = number\n",
        "\n",
        "# Use a while loop to calculate the factorial\n",
        "while current > 0:\n",
        "    factorial *= current\n",
        "    current -= 1\n",
        "\n",
        "# Print the result\n",
        "print(\"The factorial of\", number, \"is:\", factorial)\n",
        "\n",
        "'''"
      ],
      "metadata": {
        "id": "G2c03MA9mUfE"
      },
      "execution_count": null,
      "outputs": []
    }
  ]
}